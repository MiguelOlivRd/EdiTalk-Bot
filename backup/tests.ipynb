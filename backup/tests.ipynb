{
 "cells": [
  {
   "cell_type": "code",
   "execution_count": 4,
   "id": "98961411",
   "metadata": {},
   "outputs": [],
   "source": [
    "import requests\n",
    "import json\n",
    "import textwrap\n",
    "\n",
    "\n",
    "API_URL = 'http://127.0.0.1:8000'  # Or use 'localhost' if needed\n",
    "\n",
    "def answer(question):\n",
    "    # Prepare the data to be sent in the POST request\n",
    "    data = {\n",
    "        'question': question\n",
    "    }\n",
    "\n",
    "    # Make the POST request to the API\n",
    "    try:\n",
    "        response = requests.post(API_URL, json=data)\n",
    "        \n",
    "        # Check if the request was successful\n",
    "        if response.status_code == 200:\n",
    "            # Parse the JSON response\n",
    "            data = response.json()\n",
    "            \n",
    "            answer = textwrap.fill(data.get('answer'), width=80)\n",
    "            print('Answer from API:', answer)\n",
    "            print('Edital Name:', data.get('edital_name'))\n",
    "        else:\n",
    "            print(f\"Failed to connect, Status Code: {response.status_code}\")\n",
    "    except Exception as e:\n",
    "        print('Error fetching the API:', e)\n"
   ]
  },
  {
   "cell_type": "code",
   "execution_count": 5,
   "id": "e72fc26f",
   "metadata": {},
   "outputs": [
    {
     "name": "stdout",
     "output_type": "stream",
     "text": [
      "Answer from API:    Resposta = O cadastro socioeconômico é um instrumento técnico-operativo que\n",
      "será utilizado no processo de conhecimento, análise e interpretação da situação\n",
      "social e econômica dos/as estudantes de graduação da UFCG, com o fim da emissão\n",
      "de um parecer sobre a situação de vulnerabilidade socioeconômica do/a estudante.\n",
      "O parecer deferido servirá de condição para habilitar o acesso dos/as estudantes\n",
      "às inscrições nos Editais para os programas de Assistência Estudantil da\n",
      "PRAC/CGAE.\n",
      "Edital Name: Edital Cadastro Socioeconômico (UFCG/PRAC/CGAE Nº 03/2025)\n"
     ]
    }
   ],
   "source": [
    "answer('O que é o cadastro socioeconômico?')"
   ]
  },
  {
   "cell_type": "code",
   "execution_count": 6,
   "id": "9ac7df07",
   "metadata": {},
   "outputs": [
    {
     "name": "stdout",
     "output_type": "stream",
     "text": [
      "Answer from API:    Resposta = Para participar do processo de cadastramento socioeconômico, o/a\n",
      "estudante deve atender cumulativamente aos seguintes requisitos: a. Estar\n",
      "regularmente matriculado o u cadastrado para ingresso em cursos presenciais de\n",
      "graduação da UFCG. b. Possuir grupo familiar com renda per capita(por pessoa)\n",
      "menor ou igual a 1 (um) salário- mínimo, entendendo-se por renda mensal per\n",
      "capita o valor bruto dos rendimentos da família, dividido pelo número de\n",
      "dependentes; c. Atender aos critéri\n",
      "Edital Name: Edital Cadastro Socioeconômico (UFCG/PRAC/CGAE Nº 03/2025)\n"
     ]
    }
   ],
   "source": [
    "answer(\"Quais são os requisitos para participar do cadastro socioeconômico?\")"
   ]
  },
  {
   "cell_type": "code",
   "execution_count": 7,
   "id": "d3ded086",
   "metadata": {},
   "outputs": [
    {
     "name": "stdout",
     "output_type": "stream",
     "text": [
      "Answer from API:    Resposta = A carga horária mínima do curso de computação é de 3270 horas.\n",
      "Edital Name: PPC Ciência da Computação (Bacharelado) – UFCG\n"
     ]
    }
   ],
   "source": [
    "answer(\"Qual a carga horária mínima do curso de computação?\")"
   ]
  },
  {
   "cell_type": "code",
   "execution_count": 8,
   "id": "fe5a748d",
   "metadata": {},
   "outputs": [
    {
     "name": "stdout",
     "output_type": "stream",
     "text": [
      "Answer from API:    Resposta = O valor do Auxílio Emergencial Estudantil (AEE) é de R$ 500,00,\n",
      "devendo ser creditado em conta corrente de titularidade do estudante.\n",
      "Edital Name: Edital Auxílio Emergencial Estudantil (AEE) UFCG/PRAC/CGAE Nº 01/2025\n"
     ]
    }
   ],
   "source": [
    "answer(\"Qual é o valor do Auxílio Emergencial Estudantil?\")"
   ]
  },
  {
   "cell_type": "code",
   "execution_count": 9,
   "id": "8f7ad316",
   "metadata": {},
   "outputs": [
    {
     "name": "stdout",
     "output_type": "stream",
     "text": [
      "Answer from API:    Resposta = Para o AUXÍLIO AATIVIDADES OBRIGATÓRIAS EXTERNAS é necessário:\n",
      "2.1.1 Estar matriculado/a em estágios curriculares ou disciplinas práticas\n",
      "obrigatórias, cuja execução exija o deslocamento para outro município, que não\n",
      "aquele onde está localizado o seu campus e não coincida com o município de\n",
      "origem do/a estudante. 2.1.2 Ter apresentado, à PRAC, relatório aprovado, em\n",
      "caso de concessão de aux\n",
      "Edital Name: AUXÍLIO AATIVIDADES OBRIGATÓRIAS EXTERNAS\n"
     ]
    }
   ],
   "source": [
    "answer(\"Quais os reqisitos para solicitar o Auxílio Atividades Obrigatórias Externas?\")"
   ]
  }
 ],
 "metadata": {
  "kernelspec": {
   "display_name": "Python 3",
   "language": "python",
   "name": "python3"
  },
  "language_info": {
   "codemirror_mode": {
    "name": "ipython",
    "version": 3
   },
   "file_extension": ".py",
   "mimetype": "text/x-python",
   "name": "python",
   "nbconvert_exporter": "python",
   "pygments_lexer": "ipython3",
   "version": "3.12.3"
  }
 },
 "nbformat": 4,
 "nbformat_minor": 5
}
