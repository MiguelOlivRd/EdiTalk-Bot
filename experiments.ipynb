{
 "cells": [
  {
   "cell_type": "markdown",
   "id": "97acfe8c",
   "metadata": {},
   "source": [
    "# Delete this as soon as you see it and don't know why its here."
   ]
  },
  {
   "cell_type": "code",
   "execution_count": 1,
   "id": "76c10c40",
   "metadata": {},
   "outputs": [],
   "source": [
    "import json\n",
    "\n",
    "with open(\"representative_questions.json\", \"r\", encoding=\"utf-8\") as f:\n",
    "    representative_questions = json.load(f)\n",
    "\n",
    "\n",
    "with open(\"edital_name_to_file_path.json\", \"r\",  encoding=\"utf-8\") as f:\n",
    "    edital_name_to_file_path = json.load(f)[\"editais\"]"
   ]
  },
  {
   "cell_type": "code",
   "execution_count": 2,
   "id": "77ce21f8",
   "metadata": {},
   "outputs": [
    {
     "name": "stderr",
     "output_type": "stream",
     "text": [
      "C:\\Users\\Miguel_Rodrigues\\AppData\\Local\\Temp\\ipykernel_20020\\1842490047.py:3: LangChainDeprecationWarning: The class `HuggingFaceEmbeddings` was deprecated in LangChain 0.2.2 and will be removed in 1.0. An updated version of the class exists in the :class:`~langchain-huggingface package and should be used instead. To use it run `pip install -U :class:`~langchain-huggingface` and import as `from :class:`~langchain_huggingface import HuggingFaceEmbeddings``.\n",
      "  embeddings = HuggingFaceEmbeddings(model_name=\"all-MiniLM-L6-v2\")\n",
      "C:\\Users\\Miguel_Rodrigues\\AppData\\Roaming\\Python\\Python312\\site-packages\\tqdm\\auto.py:21: TqdmWarning: IProgress not found. Please update jupyter and ipywidgets. See https://ipywidgets.readthedocs.io/en/stable/user_install.html\n",
      "  from .autonotebook import tqdm as notebook_tqdm\n"
     ]
    }
   ],
   "source": [
    "\n",
    "\n",
    "from langchain_community.embeddings import HuggingFaceEmbeddings\n",
    "\n",
    "embeddings = HuggingFaceEmbeddings(model_name=\"all-MiniLM-L6-v2\")\n",
    "\n",
    "vector_to_edital = []\n",
    "for edital in representative_questions[\"editais\"].keys():\n",
    "    for question in representative_questions[\"editais\"][edital]:\n",
    "        vector = embeddings.embed_query(question)\n",
    "        vector_to_edital.append((vector, edital))"
   ]
  },
  {
   "cell_type": "code",
   "execution_count": 4,
   "id": "75f0b037",
   "metadata": {},
   "outputs": [
    {
     "name": "stdout",
     "output_type": "stream",
     "text": [
      "[(np.float64(1.0), 'PPC Ciência da Computação (Bacharelado) – UFCG'), (np.float64(0.7183902126156625), 'Edital Nº 01/ETSC Retificado/2025'), (np.float64(0.669871863366076), 'AUXÍLIO AATIVIDADES OBRIGATÓRIAS EXTERNAS'), (np.float64(0.6672988348418725), 'Edital Nº 02/2025 UFCG (Procedimento Complementar à Autodeclaração PPI/PCD)'), (np.float64(0.6599877479428219), 'AUXÍLIO AATIVIDADES OBRIGATÓRIAS EXTERNAS')]\n"
     ]
    },
    {
     "data": {
      "text/plain": [
       "'PPC Ciência da Computação (Bacharelado) – UFCG'"
      ]
     },
     "execution_count": 4,
     "metadata": {},
     "output_type": "execute_result"
    }
   ],
   "source": [
    "from scipy.spatial.distance import cosine\n",
    "\n",
    "def find_edital_by_question(question):\n",
    "    question_vector = embeddings.embed_query(question)\n",
    "    closest_edital = None\n",
    "    similarities = []\n",
    "    # biggest_similarity = -1  # cosine similarity ranges [-1, 1]\n",
    "\n",
    "    for vector, edital in vector_to_edital:\n",
    "        cos_sim = 1 - cosine(question_vector, vector)\n",
    "        # if cos_sim > biggest_similarity:\n",
    "        #     biggest_similarity = cos_sim\n",
    "        #     closest_edital = edital\n",
    "        similarities.append((cos_sim, edital))\n",
    "    \n",
    "    similarities.sort(reverse=True)\n",
    "    editais_count = {}\n",
    "    for similiraty in similarities[0:5]:\n",
    "        edital = similiraty[1]\n",
    "        if edital in editais_count.keys():\n",
    "            editais_count[edital] += 1\n",
    "        else:\n",
    "            editais_count[edital] = 1\n",
    "\n",
    "    print(similarities[0:5])\n",
    "\n",
    "    if similarities[0][0] > 0.9:\n",
    "        return similarities[0][1]\n",
    "\n",
    "    max_count = -1\n",
    "    max_edital = None\n",
    "    for edital, value in editais_count.items():\n",
    "        if value > max_count:\n",
    "            max_count = value\n",
    "            max_edital = edital\n",
    "\n",
    "    return max_edital\n",
    "\n",
    "def get_edital_file_content(edital_name):\n",
    "    \"\"\"\n",
    "    Given the name of an edital, returns its content as a string.\n",
    "    \"\"\"\n",
    "    file_path = edital_name_to_file_path[edital_name]\n",
    "    with open(file_path, \"r\", encoding=\"utf-8\") as file:\n",
    "        return file.read()\n",
    "    \n",
    "\n",
    "find_edital_by_question(\"Qual o objetivo do curso de Ciência da Computação da UFCG?\")\n"
   ]
  },
  {
   "cell_type": "code",
   "execution_count": 5,
   "id": "77f2914d",
   "metadata": {},
   "outputs": [
    {
     "name": "stdout",
     "output_type": "stream",
     "text": [
      "[(np.float64(0.9147705874232672), 'Edital Cadastro Socioeconômico (UFCG/PRAC/CGAE Nº 03/2025)'), (np.float64(0.8315611680201419), 'Edital Cadastro Socioeconômico (UFCG/PRAC/CGAE Nº 03/2025)'), (np.float64(0.8128246657534475), 'Edital Cadastro Socioeconômico (UFCG/PRAC/CGAE Nº 03/2025)'), (np.float64(0.7995349516003089), 'Edital Cadastro Socioeconômico (UFCG/PRAC/CGAE Nº 03/2025)'), (np.float64(0.7977582746090693), 'Edital Cadastro Socioeconômico (UFCG/PRAC/CGAE Nº 03/2025)')]\n",
      "Edital: Edital Cadastro Socioeconômico (UFCG/PRAC/CGAE Nº 03/2025)\n",
      "Resposta = Para participar do processo de cadastramento socioeconômico, o/a\n",
      "estudante deve atender cumulativamente aos seguintes requisitos: a. Estar regularmente\n",
      "matriculado o u cadastrado para ingresso em cursos presenciais de\n",
      "graduação da UFCG. b. Possuir grupo familiar com renda per\n",
      "capita(por pessoa) menor ou igual a 1 (um) salário- mínimo,\n",
      "entendendo-se por renda mensal per capita o valor bruto dos\n",
      "rendimentos da família, dividido pelo número de dependentes; c. Atender\n",
      "aos critéri\n"
     ]
    }
   ],
   "source": [
    "import importlib\n",
    "import prompt\n",
    "import call_model_dell\n",
    "\n",
    "# Reload modules\n",
    "importlib.reload(prompt)\n",
    "importlib.reload(call_model_dell)\n",
    "\n",
    "# Re-import functions to get the latest definitions\n",
    "from prompt import prompt\n",
    "from call_model_dell import call_model\n",
    "\n",
    "def answer_question(question):\n",
    "    edital_name = find_edital_by_question(question)\n",
    "    edital_content = get_edital_file_content(edital_name)\n",
    "\n",
    "    full_prompt = prompt(edital_content, question)\n",
    "\n",
    "    answer = call_model(full_prompt)\n",
    "\n",
    "    return answer, edital_name\n",
    "\n",
    "x = answer_question(\"Quais requisitos devo atender para participar do cadastro socioeconômico?\")\n",
    "\n",
    "def print_x(x):\n",
    "    def print_with_line_breaks(text, n=10):\n",
    "        words = text.split()\n",
    "        for i in range(0, len(words), n):\n",
    "            print(' '.join(words[i:i+n]))\n",
    "\n",
    "    print(\"Edital:\", x[1])\n",
    "    print_with_line_breaks(x[0], 10)\n",
    "\n",
    "print_x(x)"
   ]
  },
  {
   "cell_type": "code",
   "execution_count": 10,
   "id": "c0d7e449",
   "metadata": {},
   "outputs": [
    {
     "name": "stdout",
     "output_type": "stream",
     "text": [
      "[(np.float64(0.8272548646358513), 'PPC Ciência da Computação (Bacharelado) – UFCG'), (np.float64(0.6814681304119237), 'Edital Nº 01/ETSC Retificado/2025'), (np.float64(0.6589174100425531), 'Edital Nº 02/2025 UFCG (Procedimento Complementar à Autodeclaração PPI/PCD)'), (np.float64(0.654725602816948), 'PPC Ciência da Computação (Bacharelado) – UFCG'), (np.float64(0.6511330053539607), 'AUXÍLIO AATIVIDADES OBRIGATÓRIAS EXTERNAS')]\n",
      "Edital: PPC Ciência da Computação (Bacharelado) – UFCG\n",
      "Resposta = O curso de Ciência da Computação tem uma\n",
      "duração mínima de 3.270 (três mil, duzentas e setenta) horas,\n",
      "correspondendo a 218 (duzentos e dezoito) créditos. Essa resposta está\n",
      "no contexto. A resposta final é: O curso de Ciência\n",
      "da Computação tem uma duração mínima de 3.270 (três mil,\n",
      "duzentas e setenta) horas, correspondendo a 218 (duzentos e dezoito)\n",
      "créditos.\n"
     ]
    }
   ],
   "source": [
    "x = answer_question(\"Qual é a carga horária do curso de Computação da UFCG?\")\n",
    "\n",
    "print_x(x)"
   ]
  },
  {
   "cell_type": "code",
   "execution_count": 23,
   "id": "8a716f4b",
   "metadata": {},
   "outputs": [
    {
     "data": {
      "text/plain": [
       "(' \\nResposta = Não consigo responder a essa pergunta com minha base de informações.',\n",
       " 'AUXÍLIO AATIVIDADES OBRIGATÓRIAS EXTERNAS')"
      ]
     },
     "execution_count": 23,
     "metadata": {},
     "output_type": "execute_result"
    }
   ],
   "source": [
    "x"
   ]
  },
  {
   "cell_type": "code",
   "execution_count": null,
   "id": "a3cd1f5d",
   "metadata": {},
   "outputs": [],
   "source": []
  }
 ],
 "metadata": {
  "kernelspec": {
   "display_name": "Python 3",
   "language": "python",
   "name": "python3"
  },
  "language_info": {
   "codemirror_mode": {
    "name": "ipython",
    "version": 3
   },
   "file_extension": ".py",
   "mimetype": "text/x-python",
   "name": "python",
   "nbconvert_exporter": "python",
   "pygments_lexer": "ipython3",
   "version": "3.12.3"
  }
 },
 "nbformat": 4,
 "nbformat_minor": 5
}
