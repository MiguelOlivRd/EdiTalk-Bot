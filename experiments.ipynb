{
 "cells": [
  {
   "cell_type": "markdown",
   "id": "97acfe8c",
   "metadata": {},
   "source": [
    "# Delete this as soon as you see it and don't know why its here."
   ]
  },
  {
   "cell_type": "code",
   "execution_count": 14,
   "id": "d5f414af",
   "metadata": {},
   "outputs": [
    {
     "name": "stdout",
     "output_type": "stream",
     "text": [
      "Defaulting to user installation because normal site-packages is not writeable\n",
      "Requirement already satisfied: openai in c:\\users\\miguel_rodrigues\\appdata\\roaming\\python\\python312\\site-packages (1.108.1)\n",
      "Requirement already satisfied: anyio<5,>=3.5.0 in c:\\users\\miguel_rodrigues\\appdata\\roaming\\python\\python312\\site-packages (from openai) (4.10.0)\n",
      "Requirement already satisfied: distro<2,>=1.7.0 in c:\\users\\miguel_rodrigues\\appdata\\roaming\\python\\python312\\site-packages (from openai) (1.9.0)\n",
      "Requirement already satisfied: httpx<1,>=0.23.0 in c:\\users\\miguel_rodrigues\\appdata\\roaming\\python\\python312\\site-packages (from openai) (0.28.1)\n",
      "Requirement already satisfied: jiter<1,>=0.4.0 in c:\\users\\miguel_rodrigues\\appdata\\roaming\\python\\python312\\site-packages (from openai) (0.11.0)\n",
      "Requirement already satisfied: pydantic<3,>=1.9.0 in c:\\users\\miguel_rodrigues\\appdata\\roaming\\python\\python312\\site-packages (from openai) (2.11.9)\n",
      "Requirement already satisfied: sniffio in c:\\users\\miguel_rodrigues\\appdata\\roaming\\python\\python312\\site-packages (from openai) (1.3.1)\n",
      "Requirement already satisfied: tqdm>4 in c:\\users\\miguel_rodrigues\\appdata\\roaming\\python\\python312\\site-packages (from openai) (4.67.1)\n",
      "Requirement already satisfied: typing-extensions<5,>=4.11 in c:\\users\\miguel_rodrigues\\appdata\\roaming\\python\\python312\\site-packages (from openai) (4.15.0)\n",
      "Requirement already satisfied: idna>=2.8 in c:\\users\\miguel_rodrigues\\appdata\\roaming\\python\\python312\\site-packages (from anyio<5,>=3.5.0->openai) (3.10)\n",
      "Requirement already satisfied: certifi in c:\\users\\miguel_rodrigues\\appdata\\roaming\\python\\python312\\site-packages (from httpx<1,>=0.23.0->openai) (2025.8.3)\n",
      "Requirement already satisfied: httpcore==1.* in c:\\users\\miguel_rodrigues\\appdata\\roaming\\python\\python312\\site-packages (from httpx<1,>=0.23.0->openai) (1.0.9)\n",
      "Requirement already satisfied: h11>=0.16 in c:\\users\\miguel_rodrigues\\appdata\\roaming\\python\\python312\\site-packages (from httpcore==1.*->httpx<1,>=0.23.0->openai) (0.16.0)\n",
      "Requirement already satisfied: annotated-types>=0.6.0 in c:\\users\\miguel_rodrigues\\appdata\\roaming\\python\\python312\\site-packages (from pydantic<3,>=1.9.0->openai) (0.7.0)\n",
      "Requirement already satisfied: pydantic-core==2.33.2 in c:\\users\\miguel_rodrigues\\appdata\\roaming\\python\\python312\\site-packages (from pydantic<3,>=1.9.0->openai) (2.33.2)\n",
      "Requirement already satisfied: typing-inspection>=0.4.0 in c:\\users\\miguel_rodrigues\\appdata\\roaming\\python\\python312\\site-packages (from pydantic<3,>=1.9.0->openai) (0.4.1)\n",
      "Requirement already satisfied: colorama in c:\\users\\miguel_rodrigues\\appdata\\roaming\\python\\python312\\site-packages (from tqdm>4->openai) (0.4.6)\n"
     ]
    },
    {
     "name": "stderr",
     "output_type": "stream",
     "text": [
      "\n",
      "[notice] A new release of pip is available: 24.0 -> 25.2\n",
      "[notice] To update, run: python.exe -m pip install --upgrade pip\n"
     ]
    }
   ],
   "source": [
    "!pip install openai"
   ]
  },
  {
   "cell_type": "code",
   "execution_count": 25,
   "id": "77ce21f8",
   "metadata": {},
   "outputs": [],
   "source": [
    "import json\n",
    "\n",
    "with open(\"representative_questions.json\", \"r\", encoding=\"utf-8\") as f:\n",
    "    representative_questions = json.load(f)\n",
    "\n",
    "\n",
    "with open(\"edital_name_to_file_path.json\", \"r\",  encoding=\"utf-8\") as f:\n",
    "    edital_name_to_file_path = json.load(f)[\"editais\"]\n",
    "\n",
    "from langchain_community.embeddings import HuggingFaceEmbeddings\n",
    "\n",
    "embeddings = HuggingFaceEmbeddings(model_name=\"all-MiniLM-L6-v2\")\n",
    "\n",
    "vector_to_edital = []\n",
    "for edital in representative_questions[\"editais\"].keys():\n",
    "    for question in representative_questions[\"editais\"][edital]:\n",
    "        vector = embeddings.embed_query(question)\n",
    "        vector_to_edital.append((vector, edital))"
   ]
  },
  {
   "cell_type": "code",
   "execution_count": 32,
   "id": "75f0b037",
   "metadata": {},
   "outputs": [
    {
     "data": {
      "text/plain": [
       "'Edital Cadastro Socioeconômico (UFCG/PRAC/CGAE Nº 03/2025)'"
      ]
     },
     "execution_count": 32,
     "metadata": {},
     "output_type": "execute_result"
    }
   ],
   "source": [
    "from scipy.spatial.distance import cosine\n",
    "\n",
    "def find_edital_by_question(question):\n",
    "    question_vector = embeddings.embed_query(question)\n",
    "    closest_edital = None\n",
    "    similarities = []\n",
    "    # biggest_similarity = -1  # cosine similarity ranges [-1, 1]\n",
    "\n",
    "    for vector, edital in vector_to_edital:\n",
    "        cos_sim = 1 - cosine(question_vector, vector)\n",
    "        # if cos_sim > biggest_similarity:\n",
    "        #     biggest_similarity = cos_sim\n",
    "        #     closest_edital = edital\n",
    "        similarities.append((cos_sim, edital))\n",
    "    \n",
    "    similarities.sort(reverse=True)\n",
    "    editais_count = {}\n",
    "    for similiraty in similarities[0:5]:\n",
    "        edital = similiraty[1]\n",
    "        if edital in editais_count.keys():\n",
    "            editais_count[edital] += 1\n",
    "        else:\n",
    "            editais_count[edital] = 1\n",
    "\n",
    "    max_count = -1\n",
    "    max_edital = None\n",
    "    for edital, value in editais_count.items():\n",
    "        if value > max_count:\n",
    "            max_count = value\n",
    "            max_edital = edital\n",
    "\n",
    "    return max_edital\n",
    "\n",
    "def get_edital_file_content(edital_name):\n",
    "    \"\"\"\n",
    "    Given the name of an edital, returns its content as a string.\n",
    "    \"\"\"\n",
    "    file_path = edital_name_to_file_path[edital_name]\n",
    "    with open(file_path, \"r\", encoding=\"utf-8\") as file:\n",
    "        return file.read()\n",
    "    \n",
    "\n",
    "find_edital_by_question(\"Quais requisitos devo atender para participar do cadastro socioeconômico?\")\n"
   ]
  },
  {
   "cell_type": "code",
   "execution_count": 34,
   "id": "77f2914d",
   "metadata": {},
   "outputs": [
    {
     "name": "stdout",
     "output_type": "stream",
     "text": [
      "Edital: Edital Cadastro Socioeconômico (UFCG/PRAC/CGAE Nº 03/2025)\n",
      "Resposta = Para participar do processo de cadastramento socioeconômico, o/a\n",
      "estudante deve atender cumulativamente aos seguintes requisitos: a. Estar regularmente\n",
      "matriculado o u cadastrado para ingresso em cursos presenciais de\n",
      "graduação da UFCG. b. Possuir grupo familiar com renda per\n",
      "capita(por pessoa) menor ou igual a 1 (um) salário- mínimo,\n",
      "entendendo-se por renda mensal per capita o valor bruto dos\n",
      "rendimentos da família, dividido pelo número de dependentes; c. Atender\n",
      "aos critéri\n"
     ]
    }
   ],
   "source": [
    "import importlib\n",
    "import prompt\n",
    "import call_model_dell\n",
    "\n",
    "# Reload modules\n",
    "importlib.reload(prompt)\n",
    "importlib.reload(call_model_dell)\n",
    "\n",
    "# Re-import functions to get the latest definitions\n",
    "from prompt import prompt\n",
    "from call_model_dell import call_model\n",
    "\n",
    "def answer_question(question):\n",
    "    edital_name = find_edital_by_question(question)\n",
    "    edital_content = get_edital_file_content(edital_name)\n",
    "\n",
    "    full_prompt = prompt(edital_content, question)\n",
    "\n",
    "    answer = call_model(full_prompt)\n",
    "\n",
    "    return answer, edital_name\n",
    "\n",
    "x = answer_question(\"Quais requisitos devo atender para participar do cadastro socioeconômico?\")\n",
    "\n",
    "def print_with_line_breaks(text, n=10):\n",
    "    words = text.split()\n",
    "    for i in range(0, len(words), n):\n",
    "        print(' '.join(words[i:i+n]))\n",
    "\n",
    "print(\"Edital:\", x[1])\n",
    "print_with_line_breaks(x[0], 10)"
   ]
  },
  {
   "cell_type": "code",
   "execution_count": null,
   "id": "c0d7e449",
   "metadata": {},
   "outputs": [],
   "source": []
  },
  {
   "cell_type": "code",
   "execution_count": 23,
   "id": "8a716f4b",
   "metadata": {},
   "outputs": [
    {
     "data": {
      "text/plain": [
       "(' \\nResposta = Não consigo responder a essa pergunta com minha base de informações.',\n",
       " 'AUXÍLIO AATIVIDADES OBRIGATÓRIAS EXTERNAS')"
      ]
     },
     "execution_count": 23,
     "metadata": {},
     "output_type": "execute_result"
    }
   ],
   "source": [
    "x"
   ]
  },
  {
   "cell_type": "code",
   "execution_count": null,
   "id": "a3cd1f5d",
   "metadata": {},
   "outputs": [],
   "source": []
  }
 ],
 "metadata": {
  "kernelspec": {
   "display_name": "Python 3",
   "language": "python",
   "name": "python3"
  },
  "language_info": {
   "codemirror_mode": {
    "name": "ipython",
    "version": 3
   },
   "file_extension": ".py",
   "mimetype": "text/x-python",
   "name": "python",
   "nbconvert_exporter": "python",
   "pygments_lexer": "ipython3",
   "version": "3.12.3"
  }
 },
 "nbformat": 4,
 "nbformat_minor": 5
}
