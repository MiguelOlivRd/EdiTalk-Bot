{
 "cells": [
  {
   "cell_type": "markdown",
   "id": "97acfe8c",
   "metadata": {},
   "source": [
    "# Delete this as soon as you see it and don't know why its here."
   ]
  },
  {
   "cell_type": "code",
   "execution_count": 29,
   "id": "77ce21f8",
   "metadata": {},
   "outputs": [
    {
     "name": "stderr",
     "output_type": "stream",
     "text": [
      "c:\\Users\\Miguel_Rodrigues\\miniforge3\\envs\\dev2\\Lib\\site-packages\\huggingface_hub\\file_download.py:1150: FutureWarning: `resume_download` is deprecated and will be removed in version 1.0.0. Downloads always resume when possible. If you want to force a new download, use `force_download=True`.\n",
      "  warnings.warn(\n"
     ]
    }
   ],
   "source": [
    "import json\n",
    "\n",
    "with open(\"representative_questions.json\", \"r\") as f:\n",
    "    representative_questions = json.load(f)\n",
    "\n",
    "with open(\"edital_name_to_file_path.json\", \"r\") as f:\n",
    "    edital_name_to_file_path = json.load(f)[\"editais\"]\n",
    "\n",
    "from langchain_community.embeddings import HuggingFaceEmbeddings\n",
    "\n",
    "embeddings = HuggingFaceEmbeddings(model_name=\"all-MiniLM-L6-v2\")\n",
    "\n",
    "vector_to_edital = []\n",
    "for edital in representative_questions[\"editais\"].keys():\n",
    "    for question in representative_questions[\"editais\"][edital]:\n",
    "        vector = embeddings.embed_query(question)\n",
    "        vector_to_edital.append((vector, edital))"
   ]
  },
  {
   "cell_type": "code",
   "execution_count": 34,
   "id": "75f0b037",
   "metadata": {},
   "outputs": [],
   "source": [
    "from scipy.spatial.distance import cosine\n",
    "\n",
    "def find_edital_by_question(question):\n",
    "    question_vector = embeddings.embed_query(question)\n",
    "    closest_edital = None\n",
    "    biggest_similarity = -1  # cosine similarity ranges [-1, 1]\n",
    "\n",
    "    for vector, edital in vector_to_edital:\n",
    "        cos_sim = 1 - cosine(question_vector, vector)\n",
    "        if cos_sim > biggest_similarity:\n",
    "            biggest_similarity = cos_sim\n",
    "            closest_edital = edital\n",
    "\n",
    "    return closest_edital\n",
    "\n",
    "def get_edital_file_content(edital_name):\n",
    "    \"\"\"\n",
    "    Given the name of an edital, returns its content as a string.\n",
    "    \"\"\"\n",
    "    file_path = edital_name_to_file_path[edital_name]\n",
    "    with open(file_path, \"r\") as file:\n",
    "        return file.read()\n"
   ]
  },
  {
   "cell_type": "code",
   "execution_count": 40,
   "id": "77f2914d",
   "metadata": {},
   "outputs": [
    {
     "name": "stdout",
     "output_type": "stream",
     "text": [
      "Edital: Edital Auxílio Emergencial Estudantil (AEE) UFCG/PRAC/CGAE Nº 01/2025\n",
      "Resposta = Para participar do cadastro socioeconômico, você deve atender\n",
      "aos seguintes requisitos: estar regularmente matriculado em um curso de\n",
      "graduação da UFCG, não ter abandonado o curso, não ter\n",
      "sido reprovado por frequência insuficiente, não ter sido reprovado por\n",
      "nota insuficiente, não ter sido reprovado por não ter feito\n",
      "a prova, não ter sido reprovado por ter faltado à\n",
      "prova, não ter sido reprovado por ter tido nota zero,\n",
      "não ter sido reprovado por ter tido frequência zero\n"
     ]
    }
   ],
   "source": [
    "import importlib\n",
    "import prompt\n",
    "import call_model_dell\n",
    "\n",
    "# Reload modules\n",
    "importlib.reload(prompt)\n",
    "importlib.reload(call_model_dell)\n",
    "\n",
    "# Re-import functions to get the latest definitions\n",
    "from prompt import prompt\n",
    "from call_model_dell import call_model\n",
    "\n",
    "def answer_question(question):\n",
    "    edital_name = find_edital_by_question(question)\n",
    "    edital_content = get_edital_file_content(edital_name)\n",
    "\n",
    "    full_prompt = prompt(edital, question)\n",
    "\n",
    "    answer = call_model(full_prompt)\n",
    "\n",
    "    return answer, edital\n",
    "\n",
    "x = answer_question(\"Quais requisitos devo atender para participar do cadastro socioeconômico?\")\n",
    "\n",
    "def print_with_line_breaks(text, n=10):\n",
    "    words = text.split()\n",
    "    for i in range(0, len(words), n):\n",
    "        print(' '.join(words[i:i+n]))\n",
    "\n",
    "print(\"Edital:\", x[1])\n",
    "print_with_line_breaks(x[0], 10)"
   ]
  },
  {
   "cell_type": "code",
   "execution_count": null,
   "id": "c0d7e449",
   "metadata": {},
   "outputs": [],
   "source": []
  },
  {
   "cell_type": "code",
   "execution_count": 23,
   "id": "8a716f4b",
   "metadata": {},
   "outputs": [
    {
     "data": {
      "text/plain": [
       "(' \\nResposta = Não consigo responder a essa pergunta com minha base de informações.',\n",
       " 'AUXÍLIO AATIVIDADES OBRIGATÓRIAS EXTERNAS')"
      ]
     },
     "execution_count": 23,
     "metadata": {},
     "output_type": "execute_result"
    }
   ],
   "source": [
    "x"
   ]
  },
  {
   "cell_type": "code",
   "execution_count": null,
   "id": "a3cd1f5d",
   "metadata": {},
   "outputs": [],
   "source": []
  }
 ],
 "metadata": {
  "kernelspec": {
   "display_name": "dev2",
   "language": "python",
   "name": "python3"
  },
  "language_info": {
   "codemirror_mode": {
    "name": "ipython",
    "version": 3
   },
   "file_extension": ".py",
   "mimetype": "text/x-python",
   "name": "python",
   "nbconvert_exporter": "python",
   "pygments_lexer": "ipython3",
   "version": "3.11.9"
  }
 },
 "nbformat": 4,
 "nbformat_minor": 5
}
