{
 "cells": [
  {
   "cell_type": "markdown",
   "id": "97acfe8c",
   "metadata": {},
   "source": [
    "# Delete this as soon as you see it and don't know why its here."
   ]
  },
  {
   "cell_type": "code",
   "execution_count": 3,
   "id": "77ce21f8",
   "metadata": {},
   "outputs": [
    {
     "name": "stderr",
     "output_type": "stream",
     "text": [
      "/tmp/ipykernel_6017/3271193723.py:12: LangChainDeprecationWarning: The class `HuggingFaceEmbeddings` was deprecated in LangChain 0.2.2 and will be removed in 1.0. An updated version of the class exists in the :class:`~langchain-huggingface package and should be used instead. To use it run `pip install -U :class:`~langchain-huggingface` and import as `from :class:`~langchain_huggingface import HuggingFaceEmbeddings``.\n",
      "  embeddings = HuggingFaceEmbeddings(model_name=\"all-MiniLM-L6-v2\")\n",
      "/home/mignoe/.conda/envs/dev/lib/python3.13/site-packages/tqdm/auto.py:21: TqdmWarning: IProgress not found. Please update jupyter and ipywidgets. See https://ipywidgets.readthedocs.io/en/stable/user_install.html\n",
      "  from .autonotebook import tqdm as notebook_tqdm\n"
     ]
    }
   ],
   "source": [
    "import json\n",
    "\n",
    "with open(\"representative_questions.json\", \"r\") as f:\n",
    "    representative_questions = json.load(f)\n",
    "\n",
    "representative_questions[\"editais\"]\n",
    "\n",
    "\n",
    "\n",
    "from langchain_community.embeddings import HuggingFaceEmbeddings\n",
    "\n",
    "embeddings = HuggingFaceEmbeddings(model_name=\"all-MiniLM-L6-v2\")\n",
    "\n",
    "vector = embeddings.embed_query(\"What is the capital of France?\")"
   ]
  },
  {
   "cell_type": "code",
   "execution_count": null,
   "id": "166cef34",
   "metadata": {},
   "outputs": [],
   "source": [
    "vector_to_edital = []\n",
    "for edital in representative_questions[\"editais\"].keys():\n",
    "    for question in representative_questions[\"editais\"][edital]:\n",
    "        vector = embeddings.embed_query(question)\n",
    "        vector_to_edital.append((vector, edital))\n",
    "\n",
    "\n"
   ]
  },
  {
   "cell_type": "code",
   "execution_count": 21,
   "id": "75f0b037",
   "metadata": {},
   "outputs": [],
   "source": [
    "from scipy.spatial.distance import cosine\n",
    "\n",
    "def find_edital_by_question(question):\n",
    "    question_vector = embeddings.embed_query(question)\n",
    "    closest_edital = None\n",
    "    biggest_similarity = -1  # cosine similarity ranges [-1, 1]\n",
    "\n",
    "    for vector, edital in vector_to_edital:\n",
    "        cos_sim = 1 - cosine(question_vector, vector)\n",
    "        if cos_sim > biggest_similarity:\n",
    "            biggest_similarity = cos_sim\n",
    "            closest_edital = edital\n",
    "\n",
    "    return closest_edital\n"
   ]
  },
  {
   "cell_type": "code",
   "execution_count": 25,
   "id": "a15176ad",
   "metadata": {},
   "outputs": [
    {
     "data": {
      "text/plain": [
       "'Edital Auxílio Emergencial Estudantil (AEE) UFCG/PRAC/CGAE Nº 01/2025'"
      ]
     },
     "execution_count": 25,
     "metadata": {},
     "output_type": "execute_result"
    }
   ],
   "source": [
    "find_edital_by_question(\"Como funciona o Auxílio Emergencial para os estudantes?\")"
   ]
  },
  {
   "cell_type": "code",
   "execution_count": null,
   "id": "77f2914d",
   "metadata": {},
   "outputs": [],
   "source": [
    "from prompt import prompt \n",
    "\n",
    "def call_model(question):\n",
    "    edital = find_edital_by_question(question)\n",
    "    \n",
    "\n"
   ]
  }
 ],
 "metadata": {
  "kernelspec": {
   "display_name": "dev",
   "language": "python",
   "name": "python3"
  },
  "language_info": {
   "codemirror_mode": {
    "name": "ipython",
    "version": 3
   },
   "file_extension": ".py",
   "mimetype": "text/x-python",
   "name": "python",
   "nbconvert_exporter": "python",
   "pygments_lexer": "ipython3",
   "version": "3.13.5"
  }
 },
 "nbformat": 4,
 "nbformat_minor": 5
}
