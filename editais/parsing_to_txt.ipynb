{
 "cells": [
  {
   "cell_type": "code",
   "execution_count": 7,
   "id": "3f2d2aa9",
   "metadata": {},
   "outputs": [
    {
     "name": "stdout",
     "output_type": "stream",
     "text": [
      "Found existing installation: docx 0.2.4\n",
      "Uninstalling docx-0.2.4:\n",
      "  Would remove:\n",
      "    /home/mignoe/.conda/envs/dev/docx-template/_rels/.rels\n",
      "    /home/mignoe/.conda/envs/dev/docx-template/docProps/thumbnail.jpeg\n",
      "    /home/mignoe/.conda/envs/dev/docx-template/word/fontTable.xml\n",
      "    /home/mignoe/.conda/envs/dev/docx-template/word/numbering.xml\n",
      "    /home/mignoe/.conda/envs/dev/docx-template/word/settings.xml\n",
      "    /home/mignoe/.conda/envs/dev/docx-template/word/styles.xml\n",
      "    /home/mignoe/.conda/envs/dev/docx-template/word/theme/theme1.xml\n",
      "    /home/mignoe/.conda/envs/dev/lib/python3.13/site-packages/docx-0.2.4.dist-info/*\n",
      "    /home/mignoe/.conda/envs/dev/lib/python3.13/site-packages/docx.py\n",
      "Proceed (Y/n)? \u001b[31mERROR: Operation cancelled by user\u001b[0m\u001b[31m\n",
      "\u001b[0m^C\n",
      "Collecting python-docx\n",
      "  Downloading python_docx-1.2.0-py3-none-any.whl.metadata (2.0 kB)\n",
      "Requirement already satisfied: lxml>=3.1.0 in /home/mignoe/.conda/envs/dev/lib/python3.13/site-packages (from python-docx) (6.0.1)\n",
      "Requirement already satisfied: typing_extensions>=4.9.0 in /home/mignoe/.conda/envs/dev/lib/python3.13/site-packages (from python-docx) (4.14.0)\n",
      "Downloading python_docx-1.2.0-py3-none-any.whl (252 kB)\n",
      "Installing collected packages: python-docx\n",
      "Successfully installed python-docx-1.2.0\n"
     ]
    }
   ],
   "source": [
    "!pip uninstall docx\n",
    "!pip install python-docx\n"
   ]
  },
  {
   "cell_type": "code",
   "execution_count": 8,
   "id": "d7b56166",
   "metadata": {},
   "outputs": [],
   "source": [
    "import os\n",
    "from docx import Document\n",
    "\n",
    "folder_path = '.'  # Change to your folder path if needed\n",
    "\n",
    "for filename in os.listdir(folder_path):\n",
    "    if filename.endswith('.docx'):\n",
    "        doc_path = os.path.join(folder_path, filename)\n",
    "        doc = Document(doc_path)\n",
    "        text = '\\n'.join([para.text for para in doc.paragraphs])\n",
    "        txt_filename = filename.replace('.docx', '.txt')\n",
    "        txt_path = os.path.join(folder_path, txt_filename)\n",
    "        with open(txt_path, 'w', encoding='utf-8') as f:\n",
    "            f.write(text)"
   ]
  },
  {
   "cell_type": "code",
   "execution_count": null,
   "id": "3cbe0e72",
   "metadata": {},
   "outputs": [],
   "source": [
    "vec"
   ]
  }
 ],
 "metadata": {
  "kernelspec": {
   "display_name": "dev",
   "language": "python",
   "name": "python3"
  },
  "language_info": {
   "codemirror_mode": {
    "name": "ipython",
    "version": 3
   },
   "file_extension": ".py",
   "mimetype": "text/x-python",
   "name": "python",
   "nbconvert_exporter": "python",
   "pygments_lexer": "ipython3",
   "version": "3.13.5"
  }
 },
 "nbformat": 4,
 "nbformat_minor": 5
}
